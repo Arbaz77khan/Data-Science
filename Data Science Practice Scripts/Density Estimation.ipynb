{
 "cells": [
  {
   "cell_type": "code",
   "execution_count": 1,
   "id": "d024a2a5-45bd-4e39-8ce3-db1bc1204b69",
   "metadata": {},
   "outputs": [],
   "source": [
    "import matplotlib.pyplot as plt\n",
    "import numpy as np\n",
    "from numpy.random import normal"
   ]
  },
  {
   "cell_type": "code",
   "execution_count": 2,
   "id": "29fde013-4734-4d9e-bd59-cf3b227c2f0b",
   "metadata": {},
   "outputs": [],
   "source": [
    "# Parametric density estimation"
   ]
  },
  {
   "cell_type": "code",
   "execution_count": 3,
   "id": "2b66d193-0e6a-4c3f-986c-4fb266ca7a2b",
   "metadata": {},
   "outputs": [],
   "source": [
    "# Generate a sample\n",
    "sample = normal(loc=50, scale=5,size=1000)"
   ]
  },
  {
   "cell_type": "code",
   "execution_count": 4,
   "id": "801101d0-cc4f-41ed-bed1-6cce239ee4bf",
   "metadata": {},
   "outputs": [
    {
     "data": {
      "text/plain": [
       "50.01134381146603"
      ]
     },
     "execution_count": 4,
     "metadata": {},
     "output_type": "execute_result"
    }
   ],
   "source": [
    "sample.mean()"
   ]
  },
  {
   "cell_type": "code",
   "execution_count": 5,
   "id": "f6ad8380-9899-46a3-ae60-76aa061958e1",
   "metadata": {},
   "outputs": [
    {
     "data": {
      "text/plain": [
       "(array([  6.,  22.,  81., 161., 237., 215., 166.,  81.,  23.,   8.]),\n",
       " array([34.98861253, 37.99404924, 40.99948595, 44.00492265, 47.01035936,\n",
       "        50.01579607, 53.02123278, 56.02666949, 59.0321062 , 62.0375429 ,\n",
       "        65.04297961]),\n",
       " <BarContainer object of 10 artists>)"
      ]
     },
     "execution_count": 5,
     "metadata": {},
     "output_type": "execute_result"
    },
    {
     "data": {
      "image/png": "[encoded data removed]",
      "text/plain": [
       "<Figure size 640x480 with 1 Axes>"
      ]
     },
     "metadata": {},
     "output_type": "display_data"
    }
   ],
   "source": [
    "# plot histogram to understand the distribution of data\n",
    "plt.hist(sample,bins=10)"
   ]
  }
 ],
 "metadata": {
  "kernelspec": {
   "display_name": "Python 3 (ipykernel)",
   "language": "python",
   "name": "python3"
  },
  "language_info": {
   "codemirror_mode": {
    "name": "ipython",
    "version": 3
   },
   "file_extension": ".py",
   "mimetype": "text/x-python",
   "name": "python",
   "nbconvert_exporter": "python",
   "pygments_lexer": "ipython3",
   "version": "3.11.5"
  }
 },
 "nbformat": 4,
 "nbformat_minor": 5
}
